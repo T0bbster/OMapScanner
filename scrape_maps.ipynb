{
 "metadata": {
  "language_info": {
   "codemirror_mode": {
    "name": "ipython",
    "version": 3
   },
   "file_extension": ".py",
   "mimetype": "text/x-python",
   "name": "python",
   "nbconvert_exporter": "python",
   "pygments_lexer": "ipython3",
   "version": "3.9.1-final"
  },
  "orig_nbformat": 2,
  "kernelspec": {
   "name": "python3",
   "display_name": "Python 3.9.1 64-bit",
   "metadata": {
    "interpreter": {
     "hash": "63fd5069d213b44bf678585dea6b12cceca9941eaf7f819626cde1f2670de90d"
    }
   }
  }
 },
 "nbformat": 4,
 "nbformat_minor": 2,
 "cells": [
  {
   "cell_type": "code",
   "execution_count": 1,
   "metadata": {},
   "outputs": [],
   "source": [
    "import requests\n",
    "import urllib.request\n",
    "\n",
    "base_url = 'http://karten.guedels.ch/'\n",
    "img_dir = 'map_images/'\n",
    "all_maps_query = 'users.php?lastMaps=all'\n",
    "\n",
    "r = requests.get(base_url)"
   ]
  },
  {
   "cell_type": "code",
   "execution_count": 2,
   "metadata": {},
   "outputs": [],
   "source": [
    "html = r.text"
   ]
  },
  {
   "cell_type": "code",
   "execution_count": 2,
   "metadata": {},
   "outputs": [
    {
     "output_type": "execute_result",
     "data": {
      "text/plain": [
       "'http://karten.guedels.ch/map_images'"
      ]
     },
     "metadata": {},
     "execution_count": 2
    }
   ],
   "source": [
    "from urllib.parse import urljoin\n",
    "urljoin('http://karten.guedels.ch', 'map_images')"
   ]
  },
  {
   "cell_type": "code",
   "execution_count": 3,
   "metadata": {},
   "outputs": [],
   "source": [
    "with open('test.txt', 'w', encoding='utf-8') as fp:\n",
    "    fp.write(r.text)"
   ]
  },
  {
   "cell_type": "code",
   "execution_count": 4,
   "metadata": {},
   "outputs": [],
   "source": [
    "import re\n",
    "find_digits = re.compile('\\d+')\n",
    "\n",
    "img_numbers = [re.findall(find_digits, match)[0] for match in re.findall('map=\\d+', html)]"
   ]
  },
  {
   "cell_type": "code",
   "execution_count": 6,
   "metadata": {},
   "outputs": [],
   "source": [
    "import os\n",
    "save_dir = 'maps'\n",
    "if not os.path.exists('maps'):\n",
    "    os.mkdir(save_dir)"
   ]
  },
  {
   "cell_type": "code",
   "execution_count": 7,
   "metadata": {},
   "outputs": [],
   "source": [
    "def download_image(img_url, filename):\n",
    "    return urllib.request.urlretrieve(img_url, filename)"
   ]
  },
  {
   "cell_type": "code",
   "execution_count": 14,
   "metadata": {},
   "outputs": [],
   "source": [
    "def try_download_image(base_url, img_dir, save_dir, img, exts):\n",
    "    for i, ext in enumerate(exts):\n",
    "        img_url = f'{base_url}{img_dir}{img}{ext}'\n",
    "        filename = f'{save_dir}/{img}{ext}'\n",
    "        try:\n",
    "            if i > 0:\n",
    "                print(f'Retrying with {ext}... ')\n",
    "            return download_image(img_url, filename)\n",
    "        except HTTPError as e:\n",
    "            print(f'{str(e)} {filename}')"
   ]
  },
  {
   "cell_type": "code",
   "execution_count": 9,
   "metadata": {},
   "outputs": [],
   "source": [
    "def find_imgs_to_downloads(save_dir, imgs, exts):\n",
    "    imgs_to_exclude = []\n",
    "    imgs_to_download = []\n",
    "    for img in imgs:\n",
    "        file_exists = False\n",
    "        for ext in exts:\n",
    "            filename = f'{save_dir}/{img}{ext}'\n",
    "            file_exists = file_exists or os.path.exists(filename)\n",
    "        if file_exists:\n",
    "            imgs_to_exclude.append(img)\n",
    "        else:\n",
    "            imgs_to_download.append(img)\n",
    "    return imgs_to_download, imgs_to_exclude"
   ]
  },
  {
   "cell_type": "code",
   "execution_count": 15,
   "metadata": {},
   "outputs": [],
   "source": [
    "from urllib.error import HTTPError\n",
    "import itertools\n",
    "\n",
    "def download_images(base_url, img_dir, save_dir, imgs):\n",
    "    exts = ['.jpg', '.png', '.JPG', '.PNG']\n",
    "\n",
    "    imgs_to_download, imgs_to_exclude  = find_imgs_to_downloads(save_dir, imgs, exts)\n",
    "\n",
    "    print(f'Ignoring images: {\",\".join(imgs_to_exclude)}')\n",
    "\n",
    "    print(f'Downloading images: {\",\".join(imgs_to_download)}')\n",
    "    for img in imgs_to_download:\n",
    "        try_download_image(base_url, img_dir, save_dir, img, exts)"
   ]
  },
  {
   "cell_type": "code",
   "execution_count": 16,
   "metadata": {},
   "outputs": [
    {
     "output_type": "stream",
     "name": "stdout",
     "text": [
      "Ignoring images: 2814,2780,564,2561,2386,285,246,447,2722,251,2814,2814\n",
      "Downloading images: 2822,1057,1935,2713,2818,2816,2711,2822,2821,2820,2819,2818,2817,2816,2815,2813,1304,2324,2328,2325,2266,2165,2087,375,2004,1912\n",
      "HTTP Error 404: Not Found maps/2822.jpg\n",
      "Retrying with .png... \n",
      "HTTP Error 404: Not Found maps/2822.png\n",
      "Retrying with .JPG... \n",
      "HTTP Error 404: Not Found maps/1935.jpg\n",
      "Retrying with .png... \n",
      "HTTP Error 404: Not Found maps/1935.png\n",
      "Retrying with .JPG... \n",
      "HTTP Error 404: Not Found maps/2816.jpg\n",
      "Retrying with .png... \n",
      "HTTP Error 404: Not Found maps/2816.png\n",
      "Retrying with .JPG... \n",
      "HTTP Error 404: Not Found maps/2822.jpg\n",
      "Retrying with .png... \n",
      "HTTP Error 404: Not Found maps/2822.png\n",
      "Retrying with .JPG... \n",
      "HTTP Error 404: Not Found maps/2821.jpg\n",
      "Retrying with .png... \n",
      "HTTP Error 404: Not Found maps/2821.png\n",
      "Retrying with .JPG... \n",
      "HTTP Error 404: Not Found maps/2820.jpg\n",
      "Retrying with .png... \n",
      "HTTP Error 404: Not Found maps/2820.png\n",
      "Retrying with .JPG... \n",
      "HTTP Error 404: Not Found maps/2819.jpg\n",
      "Retrying with .png... \n",
      "HTTP Error 404: Not Found maps/2819.png\n",
      "Retrying with .JPG... \n",
      "HTTP Error 404: Not Found maps/2816.jpg\n",
      "Retrying with .png... \n",
      "HTTP Error 404: Not Found maps/2816.png\n",
      "Retrying with .JPG... \n",
      "HTTP Error 404: Not Found maps/2815.jpg\n",
      "Retrying with .png... \n",
      "HTTP Error 404: Not Found maps/2815.png\n",
      "Retrying with .JPG... \n",
      "HTTP Error 404: Not Found maps/2813.jpg\n",
      "Retrying with .png... \n",
      "HTTP Error 404: Not Found maps/2813.png\n",
      "Retrying with .JPG... \n",
      "HTTP Error 404: Not Found maps/2266.jpg\n",
      "Retrying with .png... \n",
      "HTTP Error 404: Not Found maps/2266.png\n",
      "Retrying with .JPG... \n",
      "HTTP Error 404: Not Found maps/1912.jpg\n",
      "Retrying with .png... \n",
      "HTTP Error 404: Not Found maps/1912.png\n",
      "Retrying with .JPG... \n",
      "Took 24.3715 seconds to download.\n"
     ]
    }
   ],
   "source": [
    "from time import time\n",
    "\n",
    "time_start = time()\n",
    "download_images(base_url, img_dir, save_dir, img_numbers)\n",
    "time_end = time()\n",
    "print(f'Took {time_end - time_start:2.4f} seconds to download.')"
   ]
  },
  {
   "cell_type": "code",
   "execution_count": 5,
   "metadata": {},
   "outputs": [],
   "source": [
    "from pathlib import Path"
   ]
  },
  {
   "cell_type": "code",
   "execution_count": 6,
   "metadata": {},
   "outputs": [],
   "source": [
    "p = Path('maps') / 'test.txt'"
   ]
  },
  {
   "cell_type": "code",
   "execution_count": 32,
   "metadata": {},
   "outputs": [
    {
     "output_type": "execute_result",
     "data": {
      "text/plain": [
       "'maps'"
      ]
     },
     "metadata": {},
     "execution_count": 32
    }
   ],
   "source": [
    "Path('maps/')"
   ]
  },
  {
   "cell_type": "code",
   "execution_count": 8,
   "metadata": {},
   "outputs": [
    {
     "output_type": "execute_result",
     "data": {
      "text/plain": [
       "'maps/test.txt'"
      ]
     },
     "metadata": {},
     "execution_count": 8
    }
   ],
   "source": [
    "p.as_posix()"
   ]
  },
  {
   "cell_type": "code",
   "execution_count": 9,
   "metadata": {},
   "outputs": [
    {
     "output_type": "execute_result",
     "data": {
      "text/plain": [
       "'<html><body><p>This is a slimy text and </p></body></html>'"
      ]
     },
     "metadata": {},
     "execution_count": 9
    }
   ],
   "source": [
    "from bs4 import BeautifulSoup\n",
    "soup = BeautifulSoup('<p>This is a slimy text and <script> I am slimer</script></p>')\n",
    "soup.script.decompose()\n",
    "str(soup)"
   ]
  },
  {
   "cell_type": "code",
   "execution_count": null,
   "metadata": {},
   "outputs": [],
   "source": []
  }
 ]
}